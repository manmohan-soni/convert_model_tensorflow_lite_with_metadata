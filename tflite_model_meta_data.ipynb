{
  "nbformat": 4,
  "nbformat_minor": 0,
  "metadata": {
    "colab": {
      "name": "tflite model meta data.ipynb",
      "provenance": [],
      "collapsed_sections": []
    },
    "kernelspec": {
      "name": "python3",
      "display_name": "Python 3"
    },
    "accelerator": "GPU"
  },
  "cells": [
    {
      "cell_type": "code",
      "metadata": {
        "id": "1W2UxD2kLy6B",
        "colab_type": "code",
        "colab": {}
      },
      "source": [
        "import tensorflow as tf\n",
        "from tensorflow.keras.applications.mobilenet import MobileNet"
      ],
      "execution_count": 23,
      "outputs": []
    },
    {
      "cell_type": "code",
      "metadata": {
        "id": "73ezUOAHMI25",
        "colab_type": "code",
        "colab": {}
      },
      "source": [
        "mobile_net = MobileNet()"
      ],
      "execution_count": 24,
      "outputs": []
    },
    {
      "cell_type": "code",
      "metadata": {
        "id": "nHf9eWaEOUC3",
        "colab_type": "code",
        "colab": {
          "base_uri": "https://localhost:8080/",
          "height": 54
        },
        "outputId": "3eaef65e-97f4-4b4d-f457-d668485bcc4f"
      },
      "source": [
        "!mkdir without_meta_data\n",
        "!mkdir model_with_metadata"
      ],
      "execution_count": 25,
      "outputs": [
        {
          "output_type": "stream",
          "text": [
            "mkdir: cannot create directory ‘without_meta_data’: File exists\n",
            "mkdir: cannot create directory ‘model_with_metadata’: File exists\n"
          ],
          "name": "stdout"
        }
      ]
    },
    {
      "cell_type": "code",
      "metadata": {
        "id": "iifmEvDFMM4C",
        "colab_type": "code",
        "colab": {
          "base_uri": "https://localhost:8080/",
          "height": 72
        },
        "outputId": "6bf80519-47b1-4ecf-d347-e1252b1bd136"
      },
      "source": [
        "converter = tf.lite.TFLiteConverter.from_keras_model(mobile_net)\n",
        "tflite_model = converter.convert()\n",
        "open(\"without_meta_data/converted_model.tflite\", \"wb\").write(tflite_model)"
      ],
      "execution_count": 26,
      "outputs": [
        {
          "output_type": "stream",
          "text": [
            "INFO:tensorflow:Assets written to: /tmp/tmp7bvphjff/assets\n"
          ],
          "name": "stdout"
        },
        {
          "output_type": "stream",
          "text": [
            "INFO:tensorflow:Assets written to: /tmp/tmp7bvphjff/assets\n"
          ],
          "name": "stderr"
        },
        {
          "output_type": "execute_result",
          "data": {
            "text/plain": [
              "16904712"
            ]
          },
          "metadata": {
            "tags": []
          },
          "execution_count": 26
        }
      ]
    },
    {
      "cell_type": "code",
      "metadata": {
        "id": "rvmXBR38OrRs",
        "colab_type": "code",
        "colab": {}
      },
      "source": [
        ""
      ],
      "execution_count": null,
      "outputs": []
    },
    {
      "cell_type": "code",
      "metadata": {
        "id": "_cHHYbyUOrWn",
        "colab_type": "code",
        "colab": {}
      },
      "source": [
        ""
      ],
      "execution_count": null,
      "outputs": []
    },
    {
      "cell_type": "code",
      "metadata": {
        "id": "yev45nW7OrQH",
        "colab_type": "code",
        "colab": {
          "base_uri": "https://localhost:8080/",
          "height": 146
        },
        "outputId": "9527749e-cca1-40ff-d374-d9ef11fac27c"
      },
      "source": [
        "!pip install absl-py tflite-support flatbuffers==1.12"
      ],
      "execution_count": 27,
      "outputs": [
        {
          "output_type": "stream",
          "text": [
            "Requirement already satisfied: absl-py in /usr/local/lib/python3.6/dist-packages (0.8.1)\n",
            "Requirement already satisfied: tflite-support in /usr/local/lib/python3.6/dist-packages (0.1.0rc3.dev2)\n",
            "Requirement already satisfied: flatbuffers==1.12 in /usr/local/lib/python3.6/dist-packages (1.12)\n",
            "Requirement already satisfied: six in /usr/local/lib/python3.6/dist-packages (from absl-py) (1.15.0)\n",
            "Requirement already satisfied: numpy>=1.16.0 in /usr/local/lib/python3.6/dist-packages (from tflite-support) (1.18.5)\n",
            "Requirement already satisfied: pybind11>=2.4 in /usr/local/lib/python3.6/dist-packages (from tflite-support) (2.5.0)\n"
          ],
          "name": "stdout"
        }
      ]
    },
    {
      "cell_type": "code",
      "metadata": {
        "id": "hvCgETm6Nmdp",
        "colab_type": "code",
        "colab": {
          "base_uri": "https://localhost:8080/",
          "height": 165
        },
        "outputId": "6cde77cd-b9d4-4fd9-d0f7-86ce97f7b4cf"
      },
      "source": [
        "!python ./generate_meta_data.py \\\n",
        "    --model_file=./without_meta_data/converted_model.tflite \\\n",
        "    --label_file=./without_meta_data/labels.txt \\\n",
        "    --export_directory=model_with_metadata"
      ],
      "execution_count": 28,
      "outputs": [
        {
          "output_type": "stream",
          "text": [
            "2020-08-31 02:12:20.866052: I tensorflow/stream_executor/platform/default/dso_loader.cc:48] Successfully opened dynamic library libcudart.so.10.1\n",
            "Finished populating metadata and associated file to the model:\n",
            "./without_meta_data/converted_model.tflite\n",
            "The metadata json file has been saved to:\n",
            "model_with_metadata/converted_model.json\n",
            "The associated file that has been been packed to the model is:\n",
            "['labels.txt']\n"
          ],
          "name": "stdout"
        }
      ]
    },
    {
      "cell_type": "code",
      "metadata": {
        "id": "9TGvXvnTP3Gp",
        "colab_type": "code",
        "colab": {
          "base_uri": "https://localhost:8080/",
          "height": 35
        },
        "outputId": "95898929-6b38-49e1-943a-bb7c88206a3c"
      },
      "source": [
        "# import os\n",
        "# os.path.basename(\"./model_with_metadata/converted_model.tflite\")"
      ],
      "execution_count": 22,
      "outputs": [
        {
          "output_type": "execute_result",
          "data": {
            "application/vnd.google.colaboratory.intrinsic+json": {
              "type": "string"
            },
            "text/plain": [
              "'converted_model.tflite'"
            ]
          },
          "metadata": {
            "tags": []
          },
          "execution_count": 22
        }
      ]
    },
    {
      "cell_type": "code",
      "metadata": {
        "id": "C69UJvaSRvnI",
        "colab_type": "code",
        "colab": {}
      },
      "source": [
        ""
      ],
      "execution_count": null,
      "outputs": []
    }
  ]
}